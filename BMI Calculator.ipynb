{
 "cells": [
  {
   "cell_type": "markdown",
   "id": "c860009d",
   "metadata": {},
   "source": [
    "# BMI Calculator"
   ]
  },
  {
   "cell_type": "code",
   "execution_count": null,
   "id": "aa0af6c0",
   "metadata": {},
   "outputs": [],
   "source": [
    "name = input(\"Enter your name: \")\n",
    "\n",
    "weight = float(input(\"Enter your weight in pounds: \"))\n",
    "\n",
    "height = float(input(\"Enter your height in inches: \"))\n",
    "\n",
    "BMI = (weight * 703) / (height * height)\n",
    "\n",
    "print(round(BMI,2))\n",
    "\n",
    "if BMI > 0:\n",
    "    if BMI < 18.50:\n",
    "        print(f\"{name}, you are underweight.\")\n",
    "    elif BMI <= 24.90:\n",
    "        print(f\"{name}, you are normal weight.\")\n",
    "    elif BMI <= 29.90:\n",
    "        print(f\"{name}, you are overweight.\")\n",
    "    elif BMI <= 34.90:\n",
    "        print(f\"{name}, you are severly obese.\")\n",
    "    elif BMI <= 40.00:\n",
    "        print(f\"{name}, you are morbidly obese.\")\n",
    "    else:\n",
    "        print(f\"{name}, enter valid inputs.\")"
   ]
  }
 ],
 "metadata": {
  "kernelspec": {
   "display_name": "Python 3 (ipykernel)",
   "language": "python",
   "name": "python3"
  },
  "language_info": {
   "codemirror_mode": {
    "name": "ipython",
    "version": 3
   },
   "file_extension": ".py",
   "mimetype": "text/x-python",
   "name": "python",
   "nbconvert_exporter": "python",
   "pygments_lexer": "ipython3",
   "version": "3.9.15"
  }
 },
 "nbformat": 4,
 "nbformat_minor": 5
}
